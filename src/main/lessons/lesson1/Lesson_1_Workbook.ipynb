{
 "cells": [
  {
   "cell_type": "markdown",
   "id": "f807b8eb",
   "metadata": {},
   "source": [
    "# Lesson 1: Getting started with Python\n",
    "\n",
    "### Victor Cannestro\n",
    "### July 3rd 2023"
   ]
  },
  {
   "cell_type": "markdown",
   "id": "cacef4c1",
   "metadata": {},
   "source": [
    "<img src='../../../../figures/python-logo.jpg' height=300 width=600>"
   ]
  },
  {
   "cell_type": "markdown",
   "id": "06530b3d",
   "metadata": {},
   "source": [
    "## Lesson Plan\n",
    "- [x] Building confidence \n",
    "- [x] Using Python as a calculator\n",
    "- [x] Getting used to conditional statements\n",
    "- [x] Some reserved words and syntax rules\n",
    "- [x] Choosing names for variables\n",
    "- [x] Introducing Python collections\n",
    "- [x] Introducing user defined functions"
   ]
  },
  {
   "cell_type": "markdown",
   "id": "da6c5623",
   "metadata": {},
   "source": [
    "### A quick note before we start...\n",
    "\n",
    "This is called a \"text cell\" and you can double-click to edit this cell. Text cells use something called \"markdown syntax\" for editing and formatting. To learn more, see this [markdown guide](https://docs.github.com/en/get-started/writing-on-github/getting-started-with-writing-and-formatting-on-github/basic-writing-and-formatting-syntax) for the basics.\n",
    "\n",
    "Directly below this is a \"code cell\". You can click on the cell to select it and run the contents by:\n",
    "\n",
    "- Clicking the Play icon in the left gutter of the cell;\n",
    "- Typing `Cmd/Ctrl+Enter` to run the cell in place;\n",
    "- Typing `Shift+Enter` to run the cell and move focus to the next cell (adding one if none exists); or\n",
    "- Typing `Alt+Enter` to run the cell and insert a new code cell immediately below it."
   ]
  },
  {
   "cell_type": "code",
   "execution_count": 1,
   "id": "70bcccb7",
   "metadata": {},
   "outputs": [],
   "source": [
    "# Hello I'm a code cell!\n",
    "# By the way, this is a comment and will be ignored by the computer. Comments are for people.\n",
    "\n",
    "'''\n",
    "This is \n",
    "a multi-line \n",
    "\n",
    "comment.\n",
    "'''"
   ]
  },
  {
   "cell_type": "markdown",
   "id": "528c0602",
   "metadata": {},
   "source": [
    "***"
   ]
  },
  {
   "cell_type": "markdown",
   "id": "f8500256",
   "metadata": {},
   "source": [
    "## Can I learn to program?\n",
    "\n",
    "If you're wondering whether or not you can learn to to program, then you've come to the right place! \n",
    "\n",
    "I've got <u>good news</u> for you."
   ]
  },
  {
   "cell_type": "markdown",
   "id": "141931c9",
   "metadata": {},
   "source": [
    "##  Yes, you can absolutely learn to program ✅\n",
    "\n",
    "In fact, **you might already know the basics**! \n",
    "\n",
    "- Think back on a time someone asked you for directions. What did you tell them? Next, think about a time you used Google Maps. What did Maps say to you? \n",
    "\n",
    "\n",
    "- Or, perhaps, think of a time when you went to the grocery store to pick up some food for dinner. How did you go from walking into the grocery store with an empty shopping cart, to finding each item, to leaving the grocery store with a cart filled with all the ingredients you need to make dinner?\n",
    "\n",
    "These are everyday examples of **algorithms** and people are good at building them! You are too!\n"
   ]
  },
  {
   "cell_type": "markdown",
   "id": "a2116453",
   "metadata": {},
   "source": [
    "***\n",
    "### Exercise: Time to use our 🧠\n",
    "You're hungry and want to cook spaghetti for dinner 🍝. How would you accomplish this?\n",
    "\n",
    "- **Starting point**: Box of spaghetti, jar of tomato sauce 🍅, and container of salt 🧂 in the pantry. Pots and pans available in the kitchen. A stovetop currently turned off in the kitchen. Water available on tap.\n",
    "\n",
    "\n",
    "- **Ending point**: The spaghetti is cooked, sauced, and dinner is ready to serve on your plate.\n",
    "\n",
    "Write an *algorithm* on how you would cook the spaghetti."
   ]
  },
  {
   "cell_type": "markdown",
   "id": "cd0ef412",
   "metadata": {},
   "source": [
    "##### Write your answer here: (double click on this cell to get started)\n",
    "Step 1) i would first ...\n",
    "\n",
    "Step 2) next i would ...\n",
    "\n",
    "...\n",
    "\n",
    "*When you're done, press \"Shift + Enter\" to submit your edits.*"
   ]
  },
  {
   "cell_type": "markdown",
   "id": "b6e7b7ff",
   "metadata": {},
   "source": [
    "***\n",
    "⏸️   **How are you feeling? Take a 5 minute break or maybe get a snack or some water if needed before moving on.**\n",
    "***"
   ]
  },
  {
   "cell_type": "markdown",
   "id": "c0d44305",
   "metadata": {},
   "source": [
    "## A little Python\n",
    "\n",
    "Python takes these familiar concepts and provides us with a collection of **reserved words** and **rules** for us to express our ideas in. Here **reserved words** refer to words with a special meaning in Python. They are words that signal actions to the computer.\n",
    "\n",
    "Examples of some **reserved words** and **symbols** for different categories are:\n",
    "- Cause and effect\n",
    "    - `if`\n",
    "    - `elif`\n",
    "    - `else`\n",
    "- Looping \n",
    "    - `for`\n",
    "    - `while`\n",
    "- Defining a set of related instructions\n",
    "    - `def`\n",
    "- Assigning a value\n",
    "    - `=`\n",
    "- Comparing two values\n",
    "    - `==` equals\n",
    "    - `!=` not equals\n",
    "- Separating inputs/outputs\n",
    "    - `,`\n",
    "- Validating expectations \n",
    "    - `assert`\n",
    "    - `raise`\n",
    "    \n",
    "with many others left unmentioned. Let's use different combinations of the reserved words to get a better idea about the rules Python uses."
   ]
  },
  {
   "cell_type": "markdown",
   "id": "db46848f",
   "metadata": {},
   "source": [
    "### Instructions\n",
    "1. Click on each cell below and do one of the following:\n",
    "    - Press \"Shift + Enter\" to run the selected cell\n",
    "    - Or at the top of the notebook there is an button labeled \"▶️ Run\". Click this to also run the selected cell.\n",
    "    \n",
    "Alternatively, if you'd like to run *every* cell in this notebook at once, click on \"Kernel\" -> \"Restart & Run All\"\n",
    "\n",
    "In general, try to run the cells from top to bottom to avoid errors. Variable names and values are \"remembered\" so if you jump around the notebook and reuse variables, strange results may be displayed. When in doubt there's always \"Kernel\" -> \"Restart & Clear all output\""
   ]
  },
  {
   "cell_type": "code",
   "execution_count": 1,
   "id": "b480e423",
   "metadata": {},
   "outputs": [
    {
     "name": "stdout",
     "output_type": "stream",
     "text": [
      "3\n",
      "-1\n"
     ]
    }
   ],
   "source": [
    "x = 1 # Here 'x' is a variable and we are assigning it the value '1'\n",
    "y = 2\n",
    "print(x + y) # Here 'print()' is a built-in function that we get to use out of the box in Python. It's not a reserved word\n",
    "print(x - y)"
   ]
  },
  {
   "cell_type": "markdown",
   "id": "30f22b75",
   "metadata": {},
   "source": [
    "For those curious, here are [all the built-in functions](https://python-reference.readthedocs.io/en/latest/docs/functions/) that we can always use. Don't spend too much time on it though, the documentation, while thorough, is dense and can burn up precious congnitive resources!"
   ]
  },
  {
   "cell_type": "code",
   "execution_count": 2,
   "id": "4c60b389",
   "metadata": {},
   "outputs": [
    {
     "name": "stdout",
     "output_type": "stream",
     "text": [
      "2\n",
      "<class 'int'>\n"
     ]
    }
   ],
   "source": [
    "print(x * y)\n",
    "print(type(x * y)) # We can peek at the type of a variable by calling type() on it"
   ]
  },
  {
   "cell_type": "code",
   "execution_count": 3,
   "id": "c11a2752",
   "metadata": {},
   "outputs": [
    {
     "name": "stdout",
     "output_type": "stream",
     "text": [
      "0.5\n",
      "<class 'float'>\n"
     ]
    }
   ],
   "source": [
    "print(x / y)\n",
    "print(type(x / y)) # Notice that the result changed from an integer to a decimal -- it got \"promoted\" for division"
   ]
  },
  {
   "cell_type": "code",
   "execution_count": 4,
   "id": "e7bab079",
   "metadata": {},
   "outputs": [
    {
     "name": "stdout",
     "output_type": "stream",
     "text": [
      "0\n",
      "<class 'int'>\n"
     ]
    }
   ],
   "source": [
    "print(x // y)\n",
    "print(type(x // y)) # Notice that the decimal got chopped off and the result is still an integer"
   ]
  },
  {
   "cell_type": "code",
   "execution_count": 5,
   "id": "5e513a07",
   "metadata": {},
   "outputs": [
    {
     "name": "stdout",
     "output_type": "stream",
     "text": [
      "catdog\n",
      "<class 'str'>\n"
     ]
    }
   ],
   "source": [
    "x = 'cat' # We can also assign a string of charaters to a variable\n",
    "y = 'dog'\n",
    "print(x + y)\n",
    "print(type(x + y))"
   ]
  },
  {
   "cell_type": "markdown",
   "id": "c80f4e7d",
   "metadata": {},
   "source": [
    "Let's try and mix a `str` with a `float`. What do you think will happen?"
   ]
  },
  {
   "cell_type": "code",
   "execution_count": 6,
   "id": "73fe5adb",
   "metadata": {},
   "outputs": [
    {
     "ename": "TypeError",
     "evalue": "can only concatenate str (not \"float\") to str",
     "output_type": "error",
     "traceback": [
      "\u001b[1;31m---------------------------------------------------------------------------\u001b[0m",
      "\u001b[1;31mTypeError\u001b[0m                                 Traceback (most recent call last)",
      "\u001b[1;32m<ipython-input-6-86b719be7bb6>\u001b[0m in \u001b[0;36m<module>\u001b[1;34m\u001b[0m\n\u001b[0;32m      1\u001b[0m \u001b[0mx\u001b[0m \u001b[1;33m=\u001b[0m \u001b[1;34m'cat'\u001b[0m\u001b[1;33m\u001b[0m\u001b[1;33m\u001b[0m\u001b[0m\n\u001b[0;32m      2\u001b[0m \u001b[0my\u001b[0m \u001b[1;33m=\u001b[0m \u001b[1;36m100.0\u001b[0m\u001b[1;33m\u001b[0m\u001b[1;33m\u001b[0m\u001b[0m\n\u001b[1;32m----> 3\u001b[1;33m \u001b[0mprint\u001b[0m\u001b[1;33m(\u001b[0m\u001b[0mx\u001b[0m \u001b[1;33m+\u001b[0m \u001b[0my\u001b[0m\u001b[1;33m)\u001b[0m\u001b[1;33m\u001b[0m\u001b[1;33m\u001b[0m\u001b[0m\n\u001b[0m",
      "\u001b[1;31mTypeError\u001b[0m: can only concatenate str (not \"float\") to str"
     ]
    }
   ],
   "source": [
    "x = 'cat'\n",
    "y = 100.0\n",
    "print(x + y) "
   ]
  },
  {
   "cell_type": "code",
   "execution_count": 7,
   "id": "9e6f0cfa",
   "metadata": {},
   "outputs": [
    {
     "name": "stdout",
     "output_type": "stream",
     "text": [
      "cat100.0\n"
     ]
    }
   ],
   "source": [
    "x = 'cat'\n",
    "y = 100.0\n",
    "print(x + str(y)) # When adding with a string we need to first convert all non-strings to strings"
   ]
  },
  {
   "cell_type": "code",
   "execution_count": 8,
   "id": "f7b6f373",
   "metadata": {},
   "outputs": [
    {
     "name": "stdout",
     "output_type": "stream",
     "text": [
      "My x is a cat\n"
     ]
    }
   ],
   "source": [
    "if x == 'cat':\n",
    "    print(\"My x is a \" + x)\n",
    "else:\n",
    "    print(\"My y is a \" + y)"
   ]
  },
  {
   "cell_type": "markdown",
   "id": "fdff828a",
   "metadata": {},
   "source": [
    "You may have noticed that the `print()` statements in that last example were **indented**. In Python, **indentations are very important**. In fact, we might even be able to consider them a \"reserved symbol\" of a sort. \n",
    "\n",
    "The example below will throw an `IndentationError` because we forgot to indent the line after the `if` statement.\n",
    "\n",
    "```\n",
    "File \"<ipython-input-70-a2af2d1f6df7>\", line 2\n",
    "    print(\"We found 'nasty' in 'ya-nasty'\")\n",
    "    ^\n",
    "IndentationError: expected an indented block\n",
    "\n",
    "```\n",
    "\n",
    "**Further information: https://learnpython.com/blog/indentation-python/**"
   ]
  },
  {
   "cell_type": "code",
   "execution_count": 8,
   "id": "f1f7e8a3",
   "metadata": {},
   "outputs": [
    {
     "ename": "IndentationError",
     "evalue": "expected an indented block (<ipython-input-8-5ff8e5474d2c>, line 2)",
     "output_type": "error",
     "traceback": [
      "\u001b[1;36m  File \u001b[1;32m\"<ipython-input-8-5ff8e5474d2c>\"\u001b[1;36m, line \u001b[1;32m2\u001b[0m\n\u001b[1;33m    print(\"We found 'nasty' in 'ya-nasty'\") # Try indenting this block and then rerunning the cell!\u001b[0m\n\u001b[1;37m    ^\u001b[0m\n\u001b[1;31mIndentationError\u001b[0m\u001b[1;31m:\u001b[0m expected an indented block\n"
     ]
    }
   ],
   "source": [
    "if 'nasty' in 'ya-nasty':\n",
    "print(\"We found 'nasty' in 'ya-nasty'\") # Try indenting this block and then rerunning the cell!"
   ]
  },
  {
   "cell_type": "markdown",
   "id": "ba41c7b4",
   "metadata": {},
   "source": [
    "In Python, `if`-`else` statements along with `for` and `while` loops all expect indentation in the next line. There are other **reserved words** that expect indentations on the next line, but we won't worry about them for now."
   ]
  },
  {
   "cell_type": "code",
   "execution_count": 9,
   "id": "a542d0de",
   "metadata": {},
   "outputs": [
    {
     "name": "stdout",
     "output_type": "stream",
     "text": [
      "My y is a cat\n",
      "Indentations are important.\n",
      "This will always print.\n"
     ]
    }
   ],
   "source": [
    "x, y = y, x # Now let's swap the values of x and y and see what prints out\n",
    "\n",
    "if x == 'cat':\n",
    "    print(\"My x is a \" + x)\n",
    "else:\n",
    "    print(\"My y is a \" + y)\n",
    "    print(\"Indentations are important.\")\n",
    "    \n",
    "print(\"This will always print.\")"
   ]
  },
  {
   "cell_type": "markdown",
   "id": "400e9cdc",
   "metadata": {},
   "source": [
    "Try running that last cell one more time. What did you notice? What was different?"
   ]
  },
  {
   "cell_type": "markdown",
   "id": "1f1280b9",
   "metadata": {},
   "source": [
    "After looking back at the last couple of examples, is it just me or were those variable names confusing? First `x` was referring to some number, then it referred to a string `cat` and then the cat became a `dog`?\n",
    "\n",
    "What's up with that?"
   ]
  },
  {
   "cell_type": "markdown",
   "id": "cff3a110",
   "metadata": {},
   "source": [
    "***"
   ]
  },
  {
   "cell_type": "markdown",
   "id": "9c595fa5",
   "metadata": {},
   "source": [
    "### Tip 🗸\n",
    "Try to use <u>*good* names</u> for variables. Ok...but what does that even mean?\n",
    "\n",
    "**A *good* name gives the reader context and valuable information** about what's going on in the code. \n",
    "\n",
    "In other words, imagine if your grandma walked in and glanced over at your code. Just imagine it. Would she be able to understand what that variable is supposed to mean and what you're trying to represent just by reading it? If not, it's time to pick a new name!\n",
    "\n",
    "#### Here are some **good names** that follow Python conventions:\n",
    "- `monthly_budget`\n",
    "- `items_in_shopping_cart`\n",
    "- `my_house_plants`\n",
    "- `soil_moisture_level`\n",
    "- `first_name`\n",
    "- `phone_number`\n",
    "- `current_game_board`\n",
    "- `DAYS_OF_THE_WEEK`\n",
    "- `total_amount_due`\n",
    "- `quarterly_gpa`\n",
    "- `nutrition_facts`\n",
    "- `license_plate_number`\n",
    "- `SPEED_OF_LIGHT`\n",
    "\n",
    "#### Here are some **bad names**:\n",
    "- `x = 'banana'`\n",
    "- `qrtlyAmt = 100.00`\n",
    "- `num = 1`\n",
    "- `goose = 5`\n",
    "- `temp`\n",
    "- `rd_lght`\n",
    "\n",
    "**<u>Remember the \"Grandma Names Test\"!</u>**\n",
    "\n",
    "Note that a variable can be assigned to any value, or to the value of another variable. Variable names must start with an alphabetic character or an underscore, and can contain alphabnumeric characters or underscores."
   ]
  },
  {
   "cell_type": "markdown",
   "id": "1c83f2ea",
   "metadata": {},
   "source": [
    "***\n",
    "⏸️   **How are you feeling? Take a 5 minute break or maybe get a snack or some water if needed before moving on.**\n",
    "***"
   ]
  },
  {
   "cell_type": "markdown",
   "id": "509a5b78",
   "metadata": {},
   "source": [
    "### Collections\n",
    "\n",
    "So far we've seen variables with individual values, but that's not all! Python contains several built-in collections that we can use. "
   ]
  },
  {
   "cell_type": "markdown",
   "id": "75259e71",
   "metadata": {},
   "source": [
    "#### `List`\n",
    "##### What is it?\n",
    "An **ordered list of items**. The first item is stored at index 0, the second at index 1, and so on. \n",
    "    \n",
    "**Further information:  https://www.w3schools.com/python/python_lists.asp**"
   ]
  },
  {
   "cell_type": "code",
   "execution_count": null,
   "id": "afb9b799",
   "metadata": {},
   "outputs": [],
   "source": [
    "names_of_house_plants = [\"Felix\", \"Carmen\", \"Chompy\", \"Diego\", \"Felix\"] \n",
    "\n",
    "pokemon_in_party = ['charmander', 'zubat', 'metapod']\n",
    "\n",
    "alphabet = ['a','b','c','d','e','f','g','h','i','j','k','l','m','n','o','p','q','r','s','t','u','v','w','x','y','z']"
   ]
  },
  {
   "cell_type": "code",
   "execution_count": null,
   "id": "7b6e6be1",
   "metadata": {},
   "outputs": [],
   "source": [
    "# We can search a list using the 'in' and 'not in' reserved words\n",
    "print(\"Felix\" in names_of_house_plants)\n",
    "print(\"Chompy\" not in names_of_house_plants)\n",
    "print(\"Zora\" in names_of_house_plants)"
   ]
  },
  {
   "cell_type": "code",
   "execution_count": null,
   "id": "a2767394",
   "metadata": {},
   "outputs": [],
   "source": [
    "# This is an ordered list of 5 items with values at each index in the list 0, 1, 2, 3, 4 \n",
    "names_of_house_plants = [\"Felix\", \"Carmen\", \"Chompy\", \"Diego\", \"Felix\"] \n",
    "\n",
    "# Method 1: use + to concatenate the strings together\n",
    "print(\"I have \" + str(len(names_of_house_plants)) + \" house plants\") \n",
    "\n",
    "# Method #2: Use a \"format string\" with curly braces {} \n",
    "print(f\"I have {len(names_of_house_plants)} house plants\") "
   ]
  },
  {
   "cell_type": "code",
   "execution_count": null,
   "id": "da38df5b",
   "metadata": {},
   "outputs": [],
   "source": [
    "# Let's select plants at different indices and print out their names\n",
    "print(names_of_house_plants[0])\n",
    "print(names_of_house_plants[1])\n",
    "print(names_of_house_plants[2])"
   ]
  },
  {
   "cell_type": "code",
   "execution_count": null,
   "id": "6f7db175",
   "metadata": {},
   "outputs": [],
   "source": [
    "# We can even start backwards from the end of the list!\n",
    "print(names_of_house_plants[-1])\n",
    "print(names_of_house_plants[-2])\n",
    "print(names_of_house_plants[-3])"
   ]
  },
  {
   "cell_type": "markdown",
   "id": "29fa4521",
   "metadata": {},
   "source": [
    "There's got to be a better way to loop through this list, right? \n",
    "\n",
    "\n",
    "Fortunately there is! For a finite list of items we can use a `for` loop to iterate over the items\n",
    "\n",
    "**Further information: https://www.w3schools.com/python/python_for_loops.asp**"
   ]
  },
  {
   "cell_type": "code",
   "execution_count": null,
   "id": "90c338c6",
   "metadata": {},
   "outputs": [],
   "source": [
    "for plant in names_of_house_plants:\n",
    "    print(plant)"
   ]
  },
  {
   "cell_type": "code",
   "execution_count": null,
   "id": "a61a2795",
   "metadata": {},
   "outputs": [],
   "source": [
    "# Alternatively, we can do things the manual way\n",
    "for index in range(len(names_of_house_plants)):  # Here, range will generate numbers from 0 to (length - 1)\n",
    "    plant = names_of_house_plants[index]\n",
    "    print(plant)"
   ]
  },
  {
   "cell_type": "code",
   "execution_count": null,
   "id": "ed963bf1",
   "metadata": {},
   "outputs": [],
   "source": [
    "# Let's add a new plant to our list of house plants\n",
    "names_of_house_plants.append('Lumpy')\n",
    "print(names_of_house_plants)"
   ]
  },
  {
   "cell_type": "code",
   "execution_count": null,
   "id": "71ab5831",
   "metadata": {},
   "outputs": [],
   "source": [
    "# Oops, we forgot to water our plant 'Lumpy' and it passed on. Let's remove it from our list of house plants.\n",
    "names_of_house_plants.remove('Lumpy')\n",
    "print(names_of_house_plants)"
   ]
  },
  {
   "cell_type": "markdown",
   "id": "f29e65c8",
   "metadata": {},
   "source": [
    "...but be careful if you run that last cell more than once in a row! If we try to remove an item that's no longer present, we'll get an error!"
   ]
  },
  {
   "cell_type": "markdown",
   "id": "85996b77",
   "metadata": {},
   "source": [
    "#### Try it out!"
   ]
  },
  {
   "cell_type": "code",
   "execution_count": null,
   "id": "5799482b",
   "metadata": {},
   "outputs": [],
   "source": [
    "# Here's a blank cell for you to experiment in\n",
    "\n"
   ]
  },
  {
   "cell_type": "markdown",
   "id": "38ace001",
   "metadata": {},
   "source": [
    "***\n",
    "### Exercise: Time to use our 🧠\n",
    "\n",
    "1. Print out the length of the list `alphabet`.\n",
    "\n",
    "\n",
    "2. Use a `for` loop to print out all the pokemon in the list `pokemon_in_party`\n",
    "\n",
    "\n",
    "3. Use a `for` loop to print out all the names of house plants that begin with the charater `'c'`\n",
    "\n",
    "\n",
    "4. (Challenge) Make a list called `vowels` that contains the vowels in the alphabet. Next, use a `for` loop to print out all the letters in `alphabet` that are not in `vowels`\n",
    "\n",
    "\n",
    "5. (Challenge) Use a for loop to iterate over `names_of_house_plants`. When you reach a plant name that contains the letter `'m'`, append the end of the name with `' the Nasty'`. If, instead, the plant name contains the letter `'i'`, append the end of the name with `' the Wise'`. Print out the modified list. "
   ]
  },
  {
   "cell_type": "markdown",
   "id": "e42abc61",
   "metadata": {},
   "source": [
    "#### Answer in the cells below"
   ]
  },
  {
   "cell_type": "code",
   "execution_count": null,
   "id": "38277eaa",
   "metadata": {},
   "outputs": [],
   "source": [
    "# Exercise 1\n"
   ]
  },
  {
   "cell_type": "code",
   "execution_count": null,
   "id": "56da6a7f",
   "metadata": {},
   "outputs": [],
   "source": [
    "# Exercise 2 \n"
   ]
  },
  {
   "cell_type": "code",
   "execution_count": null,
   "id": "da0154a4",
   "metadata": {},
   "outputs": [],
   "source": [
    "# Exercise 3\n"
   ]
  },
  {
   "cell_type": "code",
   "execution_count": null,
   "id": "2a2eb249",
   "metadata": {},
   "outputs": [],
   "source": [
    "# Exercise 4\n"
   ]
  },
  {
   "cell_type": "code",
   "execution_count": null,
   "id": "0dc00066",
   "metadata": {},
   "outputs": [],
   "source": [
    "# Exercise 5\n"
   ]
  },
  {
   "cell_type": "markdown",
   "id": "09c90626",
   "metadata": {},
   "source": [
    "***\n",
    "⏸️   **How are you feeling? Take a 5 minute break or maybe get a snack or some water if needed before moving on.**\n",
    "***"
   ]
  },
  {
   "cell_type": "markdown",
   "id": "dad5a8c8",
   "metadata": {},
   "source": [
    "What if we only want a few items from a list instead of the entire thing? Wouldn't it be nice if we could *slice* out only the items we're interested in?\n",
    "\n",
    "Good news: yes! In fact, this type of operation is actually called **slicing**. Let's take a closer look at the notation.\n",
    "\n",
    "```python\n",
    "my_list[starting_index (included) : ending_index (excluded) : increment]\n",
    "```\n",
    "\n",
    "By default, the following values are assumed unless overwritten:\n",
    "- `starting_index (included) = 0`\n",
    "- `ending_index (excluded)   = len(my_list)`\n",
    "- `increment                 = 1`\n",
    "\n",
    "The simplest way of slicing uses a single colon, which assumes we will always increment the index by 1\n",
    "```python\n",
    "my_list[:]\n",
    "```\n",
    "\n",
    "Alternatively, if we use two colons, then we have the option to change the increment value\n",
    "```python\n",
    "my_list[::]\n",
    "```"
   ]
  },
  {
   "cell_type": "code",
   "execution_count": null,
   "id": "e5e16eed",
   "metadata": {},
   "outputs": [],
   "source": [
    "# Here we slice the entire list, effectively making a complete copy!\n",
    "print(names_of_house_plants[:]) \n",
    "print(names_of_house_plants == names_of_house_plants[:]) # We use the == to check if the values inside are the same"
   ]
  },
  {
   "cell_type": "markdown",
   "id": "75d38745",
   "metadata": {},
   "source": [
    "However, this doesn't mean that they are EXACTLY the same object -- in other words, if they have the same identity. We use the `is` reserved word to check if these objects are stored in the exact same place in the computer's memory."
   ]
  },
  {
   "cell_type": "code",
   "execution_count": null,
   "id": "4d824abc",
   "metadata": {},
   "outputs": [],
   "source": [
    "print(names_of_house_plants is names_of_house_plants[:]) # Should be False"
   ]
  },
  {
   "cell_type": "code",
   "execution_count": null,
   "id": "48f82fef",
   "metadata": {},
   "outputs": [],
   "source": [
    "print(names_of_house_plants is names_of_house_plants) # Should be True"
   ]
  },
  {
   "cell_type": "code",
   "execution_count": null,
   "id": "4091256e",
   "metadata": {},
   "outputs": [],
   "source": [
    "# What if we only want the first two plant names?\n",
    "print(names_of_house_plants[0:2]) # Start at index 0, continue at index 1, stop at index 2."
   ]
  },
  {
   "cell_type": "code",
   "execution_count": null,
   "id": "1f105362",
   "metadata": {},
   "outputs": [],
   "source": [
    "# What if we only want the last two plant names?\n",
    "length = len(names_of_house_plants)           # Equals 5\n",
    "print(names_of_house_plants[length-2:length]) # Start at index 5-2 = 3, continue at index 5-2+1 = 4, stop at index 5."
   ]
  },
  {
   "cell_type": "markdown",
   "id": "f18b8a7f",
   "metadata": {},
   "source": [
    "Now let's take a look at the double colon slice."
   ]
  },
  {
   "cell_type": "code",
   "execution_count": null,
   "id": "99d842c0",
   "metadata": {},
   "outputs": [],
   "source": [
    "print(names_of_house_plants[::]) \n",
    "print(names_of_house_plants == names_of_house_plants[::])\n",
    "print(names_of_house_plants is names_of_house_plants[::])"
   ]
  },
  {
   "cell_type": "code",
   "execution_count": null,
   "id": "7da3f2a5",
   "metadata": {},
   "outputs": [],
   "source": [
    "# The slice in the cell above is actually shorthand for the following\n",
    "length = len(names_of_house_plants)\n",
    "print(names_of_house_plants[0:length:1])"
   ]
  },
  {
   "cell_type": "code",
   "execution_count": null,
   "id": "2a0c76c8",
   "metadata": {},
   "outputs": [],
   "source": [
    "# What if we only want every other plant name?\n",
    "print(names_of_house_plants[::2]) # Start at index 0, continue at index 2, continue at index 4, can't go to index 6 so stop"
   ]
  },
  {
   "cell_type": "code",
   "execution_count": null,
   "id": "cf0122ef",
   "metadata": {},
   "outputs": [],
   "source": [
    "# What if we want to print the list in reversed order?\n",
    "print(names_of_house_plants[::-1])"
   ]
  },
  {
   "cell_type": "code",
   "execution_count": null,
   "id": "229b0977",
   "metadata": {},
   "outputs": [],
   "source": [
    "# What if we only want the last two plant names?\n",
    "print(names_of_house_plants[-1:-3:-1])"
   ]
  },
  {
   "cell_type": "markdown",
   "id": "e1b500fe",
   "metadata": {},
   "source": [
    "#### Try it out!"
   ]
  },
  {
   "cell_type": "code",
   "execution_count": null,
   "id": "9413b651",
   "metadata": {},
   "outputs": [],
   "source": [
    "# Here's a blank cell for you to experiment in\n",
    "\n"
   ]
  },
  {
   "cell_type": "markdown",
   "id": "f8ee5b54",
   "metadata": {},
   "source": [
    "***\n",
    "⏸️   **How are you feeling? Take a 5 minute break or maybe get a snack or some water if needed before moving on.**\n",
    "***"
   ]
  },
  {
   "cell_type": "markdown",
   "id": "fcdd4f58",
   "metadata": {},
   "source": [
    "#### `set`\n",
    "\n",
    "##### What is it?\n",
    "An unordered collection of **unique items**. There are no duplicate values. If passed in something with duplicates, it returns only the unique values.\n",
    "    \n",
    "**Further information: https://www.w3schools.com/python/python_sets.asp**"
   ]
  },
  {
   "cell_type": "code",
   "execution_count": null,
   "id": "94233f2f",
   "metadata": {},
   "outputs": [],
   "source": [
    "# SETS\n",
    "vowels = {'a','a','a','e','i','o','u',}\n",
    "print(vowels)\n",
    "\n",
    "unique_house_plant_names = set(names_of_house_plants)\n",
    "print(unique_house_plant_names)"
   ]
  },
  {
   "cell_type": "markdown",
   "id": "82ef2220",
   "metadata": {},
   "source": [
    "#### Try it out!"
   ]
  },
  {
   "cell_type": "code",
   "execution_count": null,
   "id": "397b3264",
   "metadata": {},
   "outputs": [],
   "source": [
    "# Here's a blank cell for you to experiment in\n",
    "\n"
   ]
  },
  {
   "cell_type": "markdown",
   "id": "91427429",
   "metadata": {},
   "source": [
    "***"
   ]
  },
  {
   "cell_type": "markdown",
   "id": "d5342060",
   "metadata": {},
   "source": [
    "#### `dict`ionary\n",
    "##### What is it?\n",
    "A collection of **key-value pairs** that represent a mapping between different things, for instance, like a Merriam-Webster Dictionary with words and their corresponding definitions.\n",
    "    \n",
    "**Further information: https://www.freecodecamp.org/news/python-dictionary-methods-dictionaries-in-python/**"
   ]
  },
  {
   "cell_type": "code",
   "execution_count": 2,
   "id": "f03e47a9",
   "metadata": {},
   "outputs": [
    {
     "name": "stdout",
     "output_type": "stream",
     "text": [
      "3\n",
      "{'Head First Python, 1st Ed.': 1, 'Hot Chocolate Mix': 2, 'Wool Socks - Grey': 2}\n"
     ]
    }
   ],
   "source": [
    "shopping_cart_with_quantities = {\n",
    "    'Head First Python, 1st Ed.': 1, \n",
    "    'Hot Chocolate Mix': 2, \n",
    "    'Wool Socks - Grey': 2\n",
    "}\n",
    "print(len(shopping_cart_with_quantities))\n",
    "print(shopping_cart_with_quantities)"
   ]
  },
  {
   "cell_type": "code",
   "execution_count": 3,
   "id": "5353e8b8",
   "metadata": {},
   "outputs": [
    {
     "name": "stdout",
     "output_type": "stream",
     "text": [
      "dict_keys(['Head First Python, 1st Ed.', 'Hot Chocolate Mix', 'Wool Socks - Grey'])\n"
     ]
    }
   ],
   "source": [
    "print(shopping_cart_with_quantities.keys())"
   ]
  },
  {
   "cell_type": "code",
   "execution_count": 4,
   "id": "87cc466d",
   "metadata": {},
   "outputs": [
    {
     "name": "stdout",
     "output_type": "stream",
     "text": [
      "dict_values([1, 2, 2])\n"
     ]
    }
   ],
   "source": [
    "print(shopping_cart_with_quantities.values())"
   ]
  },
  {
   "cell_type": "code",
   "execution_count": 5,
   "id": "3a79e181",
   "metadata": {},
   "outputs": [
    {
     "name": "stdout",
     "output_type": "stream",
     "text": [
      "dict_items([('Head First Python, 1st Ed.', 1), ('Hot Chocolate Mix', 2), ('Wool Socks - Grey', 2)])\n"
     ]
    }
   ],
   "source": [
    "print(shopping_cart_with_quantities.items())"
   ]
  },
  {
   "cell_type": "code",
   "execution_count": 6,
   "id": "5234add7",
   "metadata": {},
   "outputs": [
    {
     "name": "stdout",
     "output_type": "stream",
     "text": [
      "{'Head First Python, 1st Ed.': 1, 'Hot Chocolate Mix': 2, 'Wool Socks - Grey': 2, 'Cursed Furby': 1}\n"
     ]
    }
   ],
   "source": [
    "shopping_cart_with_quantities['Cursed Furby'] = 1   # Add a new item to the cart\n",
    "print(shopping_cart_with_quantities)                # Let's see how our cart changed"
   ]
  },
  {
   "cell_type": "code",
   "execution_count": 7,
   "id": "a9f1f761",
   "metadata": {},
   "outputs": [
    {
     "name": "stdout",
     "output_type": "stream",
     "text": [
      "{'Head First Python, 1st Ed.': 1, 'Hot Chocolate Mix': 2, 'Wool Socks - Grey': 2, 'Cursed Furby': 1, 'Eggplant Seeds': 15}\n"
     ]
    }
   ],
   "source": [
    "new_item = {'Eggplant Seeds': 15}\n",
    "shopping_cart_with_quantities.update(new_item) # Add a new item to the cart\n",
    "print(shopping_cart_with_quantities)           # Let's see how our cart changed"
   ]
  },
  {
   "cell_type": "code",
   "execution_count": 8,
   "id": "315304ad",
   "metadata": {},
   "outputs": [
    {
     "name": "stdout",
     "output_type": "stream",
     "text": [
      "2\n",
      "None\n",
      "0\n",
      "{'Head First Python, 1st Ed.': 1, 'Hot Chocolate Mix': 2, 'Wool Socks - Grey': 2, 'Cursed Furby': 1, 'Eggplant Seeds': 15}\n"
     ]
    }
   ],
   "source": [
    "print(shopping_cart_with_quantities.get('Wool Socks - Grey'))  # Get the value of an item in the cart\n",
    "print(shopping_cart_with_quantities.get('Bananas'))            # Try to get an item not in the cart\n",
    "print(shopping_cart_with_quantities.get('Bananas', 0))         # This time return a default value when not found \n",
    "print(shopping_cart_with_quantities)"
   ]
  },
  {
   "cell_type": "code",
   "execution_count": 9,
   "id": "5cbc79ba",
   "metadata": {},
   "outputs": [
    {
     "name": "stdout",
     "output_type": "stream",
     "text": [
      "Item in cart: Head First Python, 1st Ed.\n",
      "Quantity: 1\n",
      "\n",
      "Item in cart: Hot Chocolate Mix\n",
      "Quantity: 2\n",
      "\n",
      "Item in cart: Wool Socks - Grey\n",
      "Quantity: 2\n",
      "\n",
      "Item in cart: Cursed Furby\n",
      "Quantity: 1\n",
      "\n",
      "Item in cart: Eggplant Seeds\n",
      "Quantity: 15\n",
      "\n"
     ]
    }
   ],
   "source": [
    "for key, value in shopping_cart_with_quantities.items():\n",
    "    print(f\"Item in cart: {key}\\nQuantity: {value}\\n\") # \\n is a special character in a string that means \"new line\""
   ]
  },
  {
   "cell_type": "markdown",
   "id": "8306df8e",
   "metadata": {},
   "source": [
    "#### Try it out!"
   ]
  },
  {
   "cell_type": "code",
   "execution_count": null,
   "id": "591a3932",
   "metadata": {},
   "outputs": [],
   "source": [
    "# Here's a blank cell for you to experiment in\n",
    "\n"
   ]
  },
  {
   "cell_type": "markdown",
   "id": "c03181eb",
   "metadata": {},
   "source": [
    "Now let's look at a slightly more complicated dictionary representing a Pokemon's information."
   ]
  },
  {
   "cell_type": "code",
   "execution_count": null,
   "id": "a0ee9520",
   "metadata": {
    "scrolled": true
   },
   "outputs": [],
   "source": [
    "pokemon_information = {\n",
    "    \"name\": \"Onix\", \n",
    "    \"level\": 25,\n",
    "    \"ability\": \"sturdy\",\n",
    "    \"nature\": \"kind\",\n",
    "    \"stats\": {\n",
    "        \"attack\": 15, \n",
    "        \"sp_attack\": 12, \n",
    "        \"defense\": 35, \n",
    "        \"sp_defense\": 31,\n",
    "        \"speed\": 24\n",
    "    }\n",
    "}\n",
    "print(pokemon_information)"
   ]
  },
  {
   "cell_type": "markdown",
   "id": "7a9b78bc",
   "metadata": {},
   "source": [
    "Notice that the `\"stats\"` key in `pokemon_information` has yet another dictionary as its value, referred to as a **nested** dictionary. This is completely legal in Python. We can create nested structures -- but be careful not to nest too deeply! The deeper the nesting, the harder it can be to understand."
   ]
  },
  {
   "cell_type": "code",
   "execution_count": null,
   "id": "67093cdb",
   "metadata": {},
   "outputs": [],
   "source": [
    "print(pokemon_information[\"stats\"])"
   ]
  },
  {
   "cell_type": "code",
   "execution_count": null,
   "id": "e466aaeb",
   "metadata": {},
   "outputs": [],
   "source": [
    "print(pokemon_information[\"stats\"].values())"
   ]
  },
  {
   "cell_type": "code",
   "execution_count": null,
   "id": "201d8311",
   "metadata": {},
   "outputs": [],
   "source": [
    "stat_values = pokemon_information[\"stats\"].values()\n",
    "print(max(stat_values))\n",
    "print(min(stat_values))"
   ]
  },
  {
   "cell_type": "markdown",
   "id": "b7c023c0",
   "metadata": {},
   "source": [
    "#### Try it out!"
   ]
  },
  {
   "cell_type": "code",
   "execution_count": null,
   "id": "b7b3fc0a",
   "metadata": {},
   "outputs": [],
   "source": [
    "# Here's a blank cell for you to experiment in\n",
    "\n"
   ]
  },
  {
   "cell_type": "markdown",
   "id": "5f16e22d",
   "metadata": {},
   "source": [
    "***"
   ]
  },
  {
   "cell_type": "markdown",
   "id": "b068f19d",
   "metadata": {},
   "source": [
    "### Exercise: Time to use our 🧠\n",
    "\n",
    "1. Make a Python dictionary called `names` that contains a person's \n",
    "    - `'title'`, \n",
    "    - `'first_name'`, \n",
    "    - `'middle_name'`, \n",
    "    - `'last_name'`,\n",
    "    - `'suffix'`\n",
    "    \n",
    "Next, add your name to dictionary, filling out the appropriate keys and values. If there is no value for a key, just write `None`."
   ]
  },
  {
   "cell_type": "code",
   "execution_count": null,
   "id": "75f439af",
   "metadata": {},
   "outputs": [],
   "source": [
    "# Exercise 1\n"
   ]
  },
  {
   "cell_type": "markdown",
   "id": "b9e42564",
   "metadata": {},
   "source": [
    "2. (Challenge) Use the Python `dictionary` provided in the example below named `custom_dictionary` in this exercise. Add the keys `\"spook\"`, `\"shine\"`, and `\"swampy\"` (these are the outer keys) to `custom_dictionary`.  For the values of each key, make a **nested dictionary** with the relevant [parts of speech](https://www.butte.edu/departments/cas/tipsheets/grammar/parts_of_speech.html) as the inner keys. Next, go to google and find the definitions of each of the outer keys. Paste in the results as the corresponding values to the relevant parts of speech inner keys. If the word has multiple definitions for a given part of speech (for instance if \"noun\" has 2 different definitions) include only the first. Finally, print out your dictionary."
   ]
  },
  {
   "cell_type": "code",
   "execution_count": 1,
   "id": "99cfdaa0",
   "metadata": {},
   "outputs": [],
   "source": [
    "# Exercise 2\n",
    "custom_dictionary = {\n",
    "  \"dictionary\": {\n",
    "    \"noun\": \" a reference source in print or electronic form containing words usually alphabetically arranged along with information about their forms, pronunciations, functions, etymologies, meanings, and syntactic and idiomatic uses\"\n",
    "  }\n",
    "}\n",
    "\n",
    "# Answer here\n"
   ]
  },
  {
   "cell_type": "markdown",
   "id": "9502fde6",
   "metadata": {},
   "source": [
    "3. This one requires reading the article mentioned in the last \"Further information\" section. Use a built-in dictionary method to remove the `'Cursed Furby'` from our shopping cart. We don't need it. Finally, print out the updated shopping cart."
   ]
  },
  {
   "cell_type": "code",
   "execution_count": null,
   "id": "d9190dae",
   "metadata": {},
   "outputs": [],
   "source": [
    "shopping_cart_with_quantities = {\n",
    "    'Head First Python, 1st Ed.': 1, \n",
    "    'Hot Chocolate Mix': 2, \n",
    "    'Wool Socks - Grey': 2, \n",
    "    'Cursed Furby': 1, \n",
    "    'Eggplant Seeds': 15\n",
    "}\n",
    "\n",
    "# Answer here\n"
   ]
  },
  {
   "cell_type": "markdown",
   "id": "379d5d1d",
   "metadata": {},
   "source": [
    "***\n",
    "⏸️   **How are you feeling? Take a 5 minute break or maybe get a snack or some water if needed before moving on.**\n",
    "***"
   ]
  },
  {
   "cell_type": "markdown",
   "id": "5ed8abe4",
   "metadata": {},
   "source": [
    "### Making our own functions\n",
    "\n",
    "Now let's try to collect our ideas into a grouping called a **function**. Here are some facts about functions. For our purposes... \n",
    "\n",
    "1. They always start with the **reserved word** `def`\n",
    "\n",
    "\n",
    "2. Have a name that is conventionally written in something called \"lower_snake_case\"\n",
    "\n",
    "\n",
    "3. Always have a set of parentheses after their name with zero or more comma separated inputs\n",
    "    \n",
    "    \n",
    "4. Always have a colon `:` after their parentheses\n",
    "\n",
    "\n",
    "For example:\n",
    "- `def determine_if_plant_needs_water_today(house_plant, current_soil_moisture_level):`\n",
    "\n",
    "\n",
    "- `def count_number_of_words_in(text):`\n",
    "\n",
    "\n",
    "- `def calculate_if_a_player_has_won_toc_tac_toe():`\n",
    "\n",
    "**Further information: https://www.w3schools.com/python/python_scope.asp**"
   ]
  },
  {
   "cell_type": "markdown",
   "id": "a3456749",
   "metadata": {},
   "source": [
    "***\n",
    "### Tip 🗸\n",
    "#### What's so great about that?\n",
    "\n",
    "Functions are great for several reasons:\n",
    "\n",
    "- **They provide us a way to break up code that's getting too long**\n",
    "    - In fact, we say that block of code starts to *stink* when it gets too long. \n",
    "    - I'm serious! This is a legitimate technical term called a [\"code smell\"](https://en.wikipedia.org/wiki/Code_smell?oldformat=true)\n",
    "    \n",
    "- They provide us a way to **reuse code** in other places **with a different input values**\n",
    "    - This is a crucial prerequisite to testing our code\n",
    "    \n",
    "- When named well, they **provide us with valuable information about a behavior or action** that needs to be accomplished\n",
    "***"
   ]
  },
  {
   "cell_type": "code",
   "execution_count": 11,
   "id": "ea95006d",
   "metadata": {},
   "outputs": [],
   "source": [
    "def include_on_deans_list(my_gpa):\n",
    "    '''\n",
    "    Inside a function this is called a \"docstring\". Think of it as a multi-line comment. \n",
    "    Inside it we write down the details of our idea and any assumptions we're making.\n",
    "    \n",
    "    Assumes:\n",
    "       my_gpa is any positive float value such as 1.2 or 100.5\n",
    "       \n",
    "    Guarantees:\n",
    "       True if my_gpa is high enough for the deans list, and False if not.\n",
    "       \n",
    "    Throws:\n",
    "       ValueError if my_gpa is a negative number\n",
    "    '''\n",
    "    if my_gpa > 3.4: # This is the \"rule\" we are programming to determine the dean's list\n",
    "        print(\"Made the dean's list. Congratulations!\")\n",
    "        return True\n",
    "    elif my_gpa < 0:\n",
    "        raise ValueError(\"Are you okay?\") \n",
    "    else:\n",
    "        print(\"Didn't make the dean's list this quarter. Don't worry, your grades don't define you. You're still awesome!\")\n",
    "        return False"
   ]
  },
  {
   "cell_type": "code",
   "execution_count": 12,
   "id": "3ea494a2",
   "metadata": {},
   "outputs": [
    {
     "name": "stdout",
     "output_type": "stream",
     "text": [
      "Made the dean's list. Congratulations!\n",
      "True\n"
     ]
    }
   ],
   "source": [
    "# Try editing the value below to explore different behaviors of the function\n",
    "\n",
    "overall_gpa_this_quarter = 3.41\n",
    "print(include_on_deans_list(overall_gpa_this_quarter))"
   ]
  },
  {
   "cell_type": "code",
   "execution_count": null,
   "id": "47c5f333",
   "metadata": {},
   "outputs": [],
   "source": [
    "overall_gpa_last_quarter = ___\n",
    "print(include_on_deans_list(overall_gpa_last_quarter))"
   ]
  },
  {
   "cell_type": "markdown",
   "id": "560a9036",
   "metadata": {},
   "source": [
    "#### Try it out!"
   ]
  },
  {
   "cell_type": "code",
   "execution_count": null,
   "id": "5b076e2c",
   "metadata": {},
   "outputs": [],
   "source": [
    "# Here's a blank cell for you to experiment in\n",
    "\n"
   ]
  },
  {
   "cell_type": "markdown",
   "id": "a7a0f962",
   "metadata": {},
   "source": [
    "***\n",
    "### Exercise: Time to use our 🧠\n",
    "\n",
    "1. Write a function that takes any string as an input and adds `' Frappuccino'` to the end of it. Be sure to return the new string. Also, make sure to give the function a good name."
   ]
  },
  {
   "cell_type": "code",
   "execution_count": null,
   "id": "ea9f3e55",
   "metadata": {},
   "outputs": [],
   "source": [
    "# Exercise 1\n"
   ]
  },
  {
   "cell_type": "code",
   "execution_count": null,
   "id": "e26a3964",
   "metadata": {},
   "outputs": [],
   "source": []
  },
  {
   "cell_type": "markdown",
   "id": "db92a92e",
   "metadata": {},
   "source": [
    "2. Complete the function that takes a list of names as an input and returns the item with the longest name as its output."
   ]
  },
  {
   "cell_type": "code",
   "execution_count": null,
   "id": "1520b9bb",
   "metadata": {},
   "outputs": [],
   "source": [
    "# Exercise 2\n",
    "def find_longest_name_in(list_of_names):\n",
    "    '''\n",
    "    Assumes: list_of_names contains strings of various sizes  \n",
    "    \n",
    "    Guarantees: the string with the longest size in list_of_names is returned.\n",
    "    '''\n",
    "    \n",
    "    # Write solution here (replace this)\n",
    "    \n",
    "    return ___"
   ]
  },
  {
   "cell_type": "code",
   "execution_count": null,
   "id": "0a7b3f94",
   "metadata": {},
   "outputs": [],
   "source": [
    "list_of_names = ['Verona', 'Veranda', 'Sumarta', 'Blonde Espresso', 'Espresso']\n",
    "\n",
    "# The code below will check the answer. If correct, then no error will be thrown.\n",
    "actual_value = find_longest_name_in(list_of_names)\n",
    "expected_value = 'Blonde Espresso'\n",
    "message_if_wrong = \"Something looks off about the answer. Please try again.\"\n",
    "assert actual_value == expected_value, message_if_wrong"
   ]
  },
  {
   "cell_type": "markdown",
   "id": "c350d74c",
   "metadata": {},
   "source": [
    "3. (Challenge) Remember when we introduced `pokemon_information`? This time we're going to write a function that takes in the `'stats'` nested dictionary and produces a summary. Look for the details below."
   ]
  },
  {
   "cell_type": "code",
   "execution_count": null,
   "id": "3c0be87b",
   "metadata": {},
   "outputs": [],
   "source": [
    "# Exercise 3\n",
    "pokemon_information = {\n",
    "    \"name\": \"Onix\", \n",
    "    \"level\": 25,\n",
    "    \"ability\": \"sturdy\",\n",
    "    \"nature\": \"docile\",\n",
    "    \"stats\": {\n",
    "        \"attack\": 15, \n",
    "        \"sp_attack\": 12, \n",
    "        \"defense\": 35, \n",
    "        \"sp_defense\": 31,\n",
    "        \"speed\": 24\n",
    "    }\n",
    "}\n",
    "print(pokemon_information)"
   ]
  },
  {
   "cell_type": "code",
   "execution_count": null,
   "id": "501fd060",
   "metadata": {},
   "outputs": [],
   "source": [
    "def get_pokemon_stats_summary(stats):\n",
    "    '''\n",
    "    Assumes input parameter 'stats' is a dictionary with the following keys:\n",
    "            'attack', 'sp_attack', 'defense', 'sp_defense', 'speed'. \n",
    "    \n",
    "    Guarantees: A dictionary is returned that contains the value and name of the minimum\n",
    "                and maximum status, and is of the form: \n",
    "                {'minimum': {'name': , 'value': }, 'maximum': {'name': , 'value': }}.\n",
    "    '''\n",
    "    summary = {\n",
    "        'minimum': {\n",
    "            'name': '',\n",
    "            'value': 0\n",
    "        }, \n",
    "        'maximum': {\n",
    "            'name': '',\n",
    "            'value': 0\n",
    "        }\n",
    "    }\n",
    "\n",
    "    # Write solution here (replace this)\n",
    "    \n",
    "    return summary"
   ]
  },
  {
   "cell_type": "code",
   "execution_count": null,
   "id": "d17c2c9d",
   "metadata": {},
   "outputs": [],
   "source": [
    "stats = pokemon_information[\"stats\"]\n",
    "print(get_pokemon_stats_summary(stats))\n",
    "\n",
    "\n",
    "# The code below will check the answer. If correct, then no error will be thrown.\n",
    "actual_value = get_pokemon_stats_summary(stats)\n",
    "expected_value = {'minimum': {'name': 'sp_attack', 'value': 12}, 'maximum': {'name': 'defense', 'value': 35}}\n",
    "message_if_wrong = \"Something looks off about the answer. Please try again.\"\n",
    "assert actual_value == expected_value, message_if_wrong"
   ]
  },
  {
   "cell_type": "markdown",
   "id": "54b42476",
   "metadata": {},
   "source": [
    "## Congratulations! You've made it to the end of the notebook!"
   ]
  }
 ],
 "metadata": {
  "kernelspec": {
   "display_name": "Python 3",
   "language": "python",
   "name": "python3"
  },
  "language_info": {
   "codemirror_mode": {
    "name": "ipython",
    "version": 3
   },
   "file_extension": ".py",
   "mimetype": "text/x-python",
   "name": "python",
   "nbconvert_exporter": "python",
   "pygments_lexer": "ipython3",
   "version": "3.8.8"
  }
 },
 "nbformat": 4,
 "nbformat_minor": 5
}
