{
 "cells": [
  {
   "cell_type": "markdown",
   "id": "f807b8eb",
   "metadata": {},
   "source": [
    "# Lesson 1: Getting started with Python"
   ]
  },
  {
   "attachments": {},
   "cell_type": "markdown",
   "id": "cacef4c1",
   "metadata": {},
   "source": [
    "<img src='../../../../figures/python-logo.jpg' height=100 width=500>"
   ]
  },
  {
   "cell_type": "markdown",
   "id": "f8500256",
   "metadata": {},
   "source": [
    "## Can I learn to program?\n",
    "\n",
    "If you're wondering whether or not you can learn to to program, then you've come to the right place! \n",
    "\n",
    "<u> I've got good news for you</u>:"
   ]
  },
  {
   "cell_type": "markdown",
   "id": "141931c9",
   "metadata": {},
   "source": [
    "##  Yes, you can absolutely learn to program ✅\n",
    "\n",
    "In fact, **you might already know the basics**! \n",
    "\n",
    "- Think back on a time someone asked you for directions or used Google Maps. What did you tell them? What did Maps say to you? \n",
    "\n",
    "\n",
    "- Or, perhaps, think of a time when you went to the grocery store to pick up some food for dinner. How did you go from walking into the grocery store with an empty shopping cart, to finding each item, to leaving the grocery store with a cart filled with all the ingredients you need to make dinner?\n",
    "\n",
    "These are everyday examples of **algorithms** and people are good at building them!\n"
   ]
  },
  {
   "cell_type": "markdown",
   "id": "a2116453",
   "metadata": {},
   "source": [
    "***\n",
    "### Exercise: Time to use our 🧠\n",
    "You're hungry and want to cook spaghetti for dinner 🍝. How would you accomplish this?\n",
    "\n",
    "- **Starting point**: Box of spaghetti, jar of tomato sauce 🍅, and container of salt 🧂 in the pantry. Pots and pans available in the kitchen. A stovetop currently turned off in the kitchen. Water available on tap.\n",
    "\n",
    "\n",
    "- **Ending point**: The spaghetti is cooked, sauced, and dinner is ready to serve on your plate.\n",
    "\n",
    "Write an *algorithm* on how you would cook the spaghetti."
   ]
  },
  {
   "cell_type": "markdown",
   "id": "cd0ef412",
   "metadata": {},
   "source": [
    "##### Write your answer here: (double click on this cell to get started)\n",
    "Step 1) i would first ...\n",
    "\n",
    "Step 2) next i would ...\n",
    "\n",
    "...\n",
    "\n",
    "*When you're done, press \"Shift + Enter\" to submit your edits.*"
   ]
  },
  {
   "cell_type": "markdown",
   "id": "b6e7b7ff",
   "metadata": {},
   "source": [
    "***\n",
    "⏸️   **How are you feeling? Take a 5 minute break or maybe get a snack or some water if needed before moving on.**\n",
    "***"
   ]
  },
  {
   "cell_type": "markdown",
   "id": "c0d44305",
   "metadata": {},
   "source": [
    "## A little Python\n",
    "\n",
    "Python takes these familiar concepts and provides us with a collection of **reserved words** and **rules** for us to express our ideas in. Here **reserved words** refer to words with a special meaning in Python. They are words that signal actions to the computer.\n",
    "\n",
    "Examples of some **reserved words** and **symbols** for different categories are:\n",
    "- Cause and effect\n",
    "    - `if`\n",
    "    - `elif`\n",
    "    - `else`\n",
    "- Looping \n",
    "    - `for`\n",
    "    - `while`\n",
    "- Defining a set of related instructions\n",
    "    - `def`\n",
    "- Assigning a value\n",
    "    - `=`\n",
    "- Separating inputs/outputs\n",
    "    - `,`\n",
    "- Calling a function\n",
    "    - `.`\n",
    "    \n",
    "with many others left unmentioned. Let's use different combinations of the reserved words to get a better idea about the rules Python uses."
   ]
  },
  {
   "cell_type": "markdown",
   "id": "db46848f",
   "metadata": {},
   "source": [
    "### Instructions\n",
    "1. Click on each cell below and do one of the following:\n",
    "    - Press \"Shift + Enter\" to run the selected cell\n",
    "    - Or at the top of the notebook there is an button labeled \"▶️ Run\". Click this to also run the selected cell.\n",
    "    \n",
    "Alternatively, if you'd like to run *every* cell in this notebook at once, click on \"Kernel\" -> \"Restart & Run All\""
   ]
  },
  {
   "cell_type": "code",
   "execution_count": 29,
   "id": "b480e423",
   "metadata": {},
   "outputs": [
    {
     "name": "stdout",
     "output_type": "stream",
     "text": [
      "3\n",
      "-1\n"
     ]
    }
   ],
   "source": [
    "# This is a comment and will be ignored by the computer. Comments are for people.\n",
    "\n",
    "x = 1 # Here 'x' is a variable and we are assigning it the value '1'\n",
    "y = 2\n",
    "print(x + y) # Here 'print()' is a built-in method that we get to use out of the box in Python\n",
    "print(x - y)"
   ]
  },
  {
   "cell_type": "code",
   "execution_count": 21,
   "id": "4c60b389",
   "metadata": {},
   "outputs": [
    {
     "name": "stdout",
     "output_type": "stream",
     "text": [
      "2\n",
      "<class 'int'>\n"
     ]
    }
   ],
   "source": [
    "print(x * y)\n",
    "print(type(x * y)) # We can peek at the type of a variable by calling type() on it"
   ]
  },
  {
   "cell_type": "code",
   "execution_count": 22,
   "id": "c11a2752",
   "metadata": {},
   "outputs": [
    {
     "name": "stdout",
     "output_type": "stream",
     "text": [
      "0.5\n",
      "<class 'float'>\n"
     ]
    }
   ],
   "source": [
    "print(x / y)\n",
    "print(type(x / y)) # Notice that the result changed from an integer to a decimal -- it got \"promoted\" for division"
   ]
  },
  {
   "cell_type": "code",
   "execution_count": 30,
   "id": "e7bab079",
   "metadata": {},
   "outputs": [
    {
     "name": "stdout",
     "output_type": "stream",
     "text": [
      "0\n",
      "<class 'int'>\n"
     ]
    }
   ],
   "source": [
    "print(x // y)\n",
    "print(type(x // y)) # Notice that the decimal got chopped off and the result is still an integer"
   ]
  },
  {
   "cell_type": "code",
   "execution_count": 32,
   "id": "5e513a07",
   "metadata": {},
   "outputs": [
    {
     "name": "stdout",
     "output_type": "stream",
     "text": [
      "catdog\n",
      "<class 'str'>\n"
     ]
    }
   ],
   "source": [
    "x = 'cat' # We can also assign a string of charaters to a variable\n",
    "y = 'dog'\n",
    "print(x + y)\n",
    "print(type(x + y))"
   ]
  },
  {
   "cell_type": "code",
   "execution_count": 33,
   "id": "f7b6f373",
   "metadata": {},
   "outputs": [
    {
     "name": "stdout",
     "output_type": "stream",
     "text": [
      "My x is a cat\n"
     ]
    }
   ],
   "source": [
    "if x == 'cat':\n",
    "    print(\"My x is a \" + x)\n",
    "else:\n",
    "    print(\"My y is a \" + y)"
   ]
  },
  {
   "cell_type": "markdown",
   "id": "fdff828a",
   "metadata": {},
   "source": [
    "You may have noticed that the `print()` statements in that last example were **indented**. In Python, **indentations are very important**. In fact, we might even be able to consider them a \"reserved symbol\" of a sort. \n",
    "\n",
    "The example below will throw an `IndentationError` because we forgot to indent the line after the `if` statement.\n",
    "\n",
    "```\n",
    "File \"<ipython-input-70-a2af2d1f6df7>\", line 2\n",
    "    print(\"We found 'nasty' in 'yanasty'\")\n",
    "    ^\n",
    "IndentationError: expected an indented block\n",
    "\n",
    "```"
   ]
  },
  {
   "cell_type": "code",
   "execution_count": 70,
   "id": "f1f7e8a3",
   "metadata": {},
   "outputs": [
    {
     "ename": "IndentationError",
     "evalue": "expected an indented block (<ipython-input-70-a2af2d1f6df7>, line 2)",
     "output_type": "error",
     "traceback": [
      "\u001b[1;36m  File \u001b[1;32m\"<ipython-input-70-a2af2d1f6df7>\"\u001b[1;36m, line \u001b[1;32m2\u001b[0m\n\u001b[1;33m    print(\"We found 'nasty' in 'yanasty'\")\u001b[0m\n\u001b[1;37m    ^\u001b[0m\n\u001b[1;31mIndentationError\u001b[0m\u001b[1;31m:\u001b[0m expected an indented block\n"
     ]
    }
   ],
   "source": [
    "if 'nasty' in 'yanasty':\n",
    "print(\"We found 'nasty' in 'yanasty'\") # Try indenting this block and then rerunning the cell!"
   ]
  },
  {
   "cell_type": "markdown",
   "id": "ba41c7b4",
   "metadata": {},
   "source": [
    "In Python, `if`-`else` statements along with `for` and `while` loops all expect indentation in the next line. There are other **reserved words** that expect indentations on the next line, but we won't worry about them for now."
   ]
  },
  {
   "cell_type": "code",
   "execution_count": 42,
   "id": "a542d0de",
   "metadata": {},
   "outputs": [
    {
     "name": "stdout",
     "output_type": "stream",
     "text": [
      "My y is a cat\n",
      "Indentations are important.\n",
      "This will always print.\n"
     ]
    }
   ],
   "source": [
    "x, y = y, x # Now let's swap the values of x and y and see what prints out\n",
    "\n",
    "if x == 'cat':\n",
    "    print(\"My x is a \" + x)\n",
    "else:\n",
    "    print(\"My y is a \" + y)\n",
    "    print(\"Indentations are important.\")\n",
    "    \n",
    "print(\"This will always print.\")"
   ]
  },
  {
   "cell_type": "markdown",
   "id": "1f1280b9",
   "metadata": {},
   "source": [
    "After looking back at the last couple of examples, is it just me or were those variable names confusing? First `x` was referring to some number, then it referred to a string `cat` and then the cat became a `dog`??? \n",
    "\n",
    "What's up with that?"
   ]
  },
  {
   "cell_type": "markdown",
   "id": "9c595fa5",
   "metadata": {},
   "source": [
    "### Tip 🗸\n",
    "Try to use <u>*good* names</u> for variables. Ok...but what does that even mean?\n",
    "\n",
    "**A *good* name gives the reader context and valuable information** about what's going on in the code. \n",
    "\n",
    "In other words, imagine if your grandma walked in and glanced over at your code, would she be able to understand what that variable is supposed to mean and represent? \n",
    "\n",
    "#### Here are some **good names** that follow Python conventions:\n",
    "- `monthly_budget`\n",
    "- `items_in_shopping_cart`\n",
    "- `my_house_plants`\n",
    "- `soil_moisture_level`\n",
    "- `first_name`\n",
    "- `phone_number`\n",
    "- `current_game_board`\n",
    "- `DAYS_OF_THE_WEEK`\n",
    "- `total_amount_due`\n",
    "- `quarterly_gpa`\n",
    "- `nutrition_facts`\n",
    "- `license_plate_number`\n",
    "- `SPEED_OF_LIGHT`\n",
    "\n",
    "#### Here are some **bad names**:\n",
    "- `x = 'banana'`\n",
    "- `qrtlyAmt = 100.00`\n",
    "- `num = 1`\n",
    "- `goose = 5`\n",
    "- `temp`\n",
    "- `rd_lght`\n",
    "\n",
    "##### <u>Remember the \"Grandma Names Test\"!</u>"
   ]
  },
  {
   "cell_type": "markdown",
   "id": "509a5b78",
   "metadata": {},
   "source": [
    "### Collections\n",
    "\n",
    "So far we've seen variables with individual values, but that's not all! Python contains several built-in <u>collections</u> that we can use such as: \n",
    "\n",
    "- `list` \n",
    "    - An **ordered list of items**. The first item is stored at index 0, the second at index 1, and so on. \n",
    "\n",
    "\n",
    "- `set`\n",
    "    - A collection of **unique items**. There are no duplicate values. If passes in something with duplicates, it returns the unique values.\n",
    "    \n",
    "    \n",
    "- `dictionary`\n",
    "    - A collection of **key-value pairs** that represent a mapping between different things, for instance, like a Merriam-Webster Dictionary with words and definitions.\n",
    "    \n",
    "to name a few of the important ones."
   ]
  },
  {
   "cell_type": "markdown",
   "id": "75259e71",
   "metadata": {},
   "source": [
    "#### Collections - `List`"
   ]
  },
  {
   "cell_type": "code",
   "execution_count": 71,
   "id": "afb9b799",
   "metadata": {},
   "outputs": [],
   "source": [
    "names_of_house_plants = [\"Felix\", \"Carmen\", \"Hagrid\", \"Diego\", \"Felix\"] \n",
    "\n",
    "pokemon_in_party = ['charmander', 'zubat', 'metapod']\n",
    "\n",
    "alphabet = ['a','b','c','d','e','f','g','h','i','j','k','l','m','n','o','p','q','r','s','t','u','v','w','x','y','z']"
   ]
  },
  {
   "cell_type": "code",
   "execution_count": 83,
   "id": "7b6e6be1",
   "metadata": {},
   "outputs": [
    {
     "name": "stdout",
     "output_type": "stream",
     "text": [
      "True\n",
      "False\n",
      "False\n"
     ]
    }
   ],
   "source": [
    "# We can search a list using the 'in' and 'not in' reserved words\n",
    "print(\"Felix\" in names_of_house_plants)\n",
    "print(\"Hagrid\" not in names_of_house_plants)\n",
    "print(\"Zora\" in names_of_house_plants)"
   ]
  },
  {
   "cell_type": "code",
   "execution_count": 46,
   "id": "a2767394",
   "metadata": {},
   "outputs": [
    {
     "name": "stdout",
     "output_type": "stream",
     "text": [
      "I have 5 house plants\n",
      "I have 5 house plants\n"
     ]
    }
   ],
   "source": [
    "# This is an ordered list of 5 items with values at each index in the list 0, 1, 2, 3, 4 \n",
    "names_of_house_plants = [\"Felix\", \"Carmen\", \"Hagrid\", \"Diego\", \"Felix\"] \n",
    "\n",
    "# Method 1: use + to concatenate the strings together\n",
    "print(\"I have \" + str(len(names_of_house_plants)) + \" house plants\") \n",
    "\n",
    "# Method #2: Use a \"format string\" with curly braces {} \n",
    "print(f\"I have {len(names_of_house_plants)} house plants\") "
   ]
  },
  {
   "cell_type": "code",
   "execution_count": 67,
   "id": "da38df5b",
   "metadata": {},
   "outputs": [
    {
     "name": "stdout",
     "output_type": "stream",
     "text": [
      "Felix\n",
      "Carmen\n",
      "Hagrid\n"
     ]
    }
   ],
   "source": [
    "# Let's select plants at different indices and print out their names\n",
    "print(names_of_house_plants[0])\n",
    "print(names_of_house_plants[1])\n",
    "print(names_of_house_plants[2])"
   ]
  },
  {
   "cell_type": "code",
   "execution_count": 68,
   "id": "6f7db175",
   "metadata": {},
   "outputs": [
    {
     "name": "stdout",
     "output_type": "stream",
     "text": [
      "Felix\n",
      "Diego\n",
      "Hagrid\n"
     ]
    }
   ],
   "source": [
    "# We can even start backwards from the end of the list!\n",
    "print(names_of_house_plants[-1])\n",
    "print(names_of_house_plants[-2])\n",
    "print(names_of_house_plants[-3])"
   ]
  },
  {
   "cell_type": "code",
   "execution_count": 59,
   "id": "90c338c6",
   "metadata": {},
   "outputs": [
    {
     "name": "stdout",
     "output_type": "stream",
     "text": [
      "Felix\n",
      "Carmen\n",
      "Hagrid\n",
      "Diego\n",
      "Felix\n"
     ]
    }
   ],
   "source": [
    "for plant in names_of_house_plants:\n",
    "    print(plant)"
   ]
  },
  {
   "cell_type": "code",
   "execution_count": 69,
   "id": "a61a2795",
   "metadata": {},
   "outputs": [
    {
     "name": "stdout",
     "output_type": "stream",
     "text": [
      "Felix\n",
      "Carmen\n",
      "Hagrid\n",
      "Diego\n",
      "Felix\n"
     ]
    }
   ],
   "source": [
    "# Alternatively, we can do things the manual way\n",
    "for index in range(len(names_of_house_plants)):  # Here, range will generate numbers from 0 to (length - 1)\n",
    "    plant = names_of_house_plants[index]\n",
    "    print(plant)"
   ]
  },
  {
   "cell_type": "code",
   "execution_count": 95,
   "id": "ed963bf1",
   "metadata": {},
   "outputs": [
    {
     "name": "stdout",
     "output_type": "stream",
     "text": [
      "['Felix', 'Carmen', 'Hagrid', 'Diego', 'Felix', 'Lumpy']\n"
     ]
    }
   ],
   "source": [
    "# Let's add a new plant to our list of house plants\n",
    "names_of_house_plants.append('Lumpy')\n",
    "print(names_of_house_plants)"
   ]
  },
  {
   "cell_type": "code",
   "execution_count": 96,
   "id": "71ab5831",
   "metadata": {},
   "outputs": [
    {
     "name": "stdout",
     "output_type": "stream",
     "text": [
      "['Felix', 'Carmen', 'Hagrid', 'Diego', 'Felix']\n"
     ]
    }
   ],
   "source": [
    "# Oops, we forgot to water our plant 'Lumpy' and it passed on. Let's remove it from our list of house plants.\n",
    "names_of_house_plants.remove('Lumpy')\n",
    "print(names_of_house_plants)\n",
    "\n",
    "# ...but be careful if you run this cell more than once in a row! \n",
    "#    If we try to remove something that's not there anymore, we'll get an error!"
   ]
  },
  {
   "cell_type": "code",
   "execution_count": null,
   "id": "5799482b",
   "metadata": {},
   "outputs": [],
   "source": [
    "# Here's a blank cell for you to experiment in\n",
    "\n"
   ]
  },
  {
   "cell_type": "markdown",
   "id": "671cf038",
   "metadata": {},
   "source": [
    "***\n",
    "⏸️   **How are you feeling? Take a 5 minute break or maybe get a snack or some water if needed before moving on.**\n",
    "***"
   ]
  },
  {
   "cell_type": "markdown",
   "id": "cd3801d0",
   "metadata": {},
   "source": [
    "***\n",
    "### Exercise: Time to use our 🧠\n",
    "\n",
    "1. Print out the length of the list `alphabet`.\n",
    "\n",
    "\n",
    "2. Use a `for` loop to print out all the pokemon in the list `pokemon_in_party`\n",
    "\n",
    "\n",
    "3. (Challenge) Make a list called `vowels` that contains the vowels in the alphabet. Next, use a `for` loop to print out all the letters in `alphabet` that are not in `vowels`"
   ]
  },
  {
   "cell_type": "markdown",
   "id": "92582e0c",
   "metadata": {},
   "source": [
    "#### Answer in the cells below"
   ]
  },
  {
   "cell_type": "code",
   "execution_count": null,
   "id": "6373930d",
   "metadata": {},
   "outputs": [],
   "source": [
    "# Question 1\n"
   ]
  },
  {
   "cell_type": "code",
   "execution_count": null,
   "id": "bdf62fe5",
   "metadata": {},
   "outputs": [],
   "source": [
    "# Question 2 \n"
   ]
  },
  {
   "cell_type": "code",
   "execution_count": null,
   "id": "7c259993",
   "metadata": {},
   "outputs": [],
   "source": [
    "# Question 3\n"
   ]
  },
  {
   "cell_type": "markdown",
   "id": "fc23c061",
   "metadata": {},
   "source": [
    "***"
   ]
  },
  {
   "cell_type": "markdown",
   "id": "fcdd4f58",
   "metadata": {},
   "source": [
    "#### Collections - `Set`"
   ]
  },
  {
   "cell_type": "code",
   "execution_count": 72,
   "id": "94233f2f",
   "metadata": {},
   "outputs": [
    {
     "name": "stdout",
     "output_type": "stream",
     "text": [
      "{'a', 'e', 'i', 'o', 'u'}\n",
      "{'Felix', 'Diego', 'Hagrid', 'Carmen'}\n"
     ]
    }
   ],
   "source": [
    "# SETS\n",
    "vowels = {'a','a','a','e','i','o','u',}\n",
    "print(vowels)\n",
    "\n",
    "unique_house_plant_names = set(names_of_house_plants)\n",
    "print(unique_house_plant_names)"
   ]
  },
  {
   "cell_type": "code",
   "execution_count": null,
   "id": "397b3264",
   "metadata": {},
   "outputs": [],
   "source": [
    "# Here's a blank cell for you to experiment in\n",
    "\n"
   ]
  },
  {
   "cell_type": "markdown",
   "id": "d5342060",
   "metadata": {},
   "source": [
    "#### Collections - `Dictionary`"
   ]
  },
  {
   "cell_type": "code",
   "execution_count": 100,
   "id": "a0ee9520",
   "metadata": {
    "scrolled": true
   },
   "outputs": [
    {
     "name": "stdout",
     "output_type": "stream",
     "text": [
      "{'name': 'Onix', 'level': 25, 'ability': 'sturdy', 'nature': 'docile', 'stats': {'attack': 15, 'sp_attack': 12, 'defense': 35, 'sp_defense': 31, 'speed': 24}}\n"
     ]
    }
   ],
   "source": [
    "# DICTIONARY\n",
    "pokemon_information = {\n",
    "    \"name\": \"Onix\", \n",
    "    \"level\": 25,\n",
    "    \"ability\": \"sturdy\",\n",
    "    \"nature\": \"docile\",\n",
    "    \"stats\": {\n",
    "        \"attack\": 15, \n",
    "        \"sp_attack\": 12, \n",
    "        \"defense\": 35, \n",
    "        \"sp_defense\": 31,\n",
    "        \"speed\": 24\n",
    "    }\n",
    "}\n",
    "print(pokemon_information)"
   ]
  },
  {
   "cell_type": "code",
   "execution_count": 99,
   "id": "f03e47a9",
   "metadata": {},
   "outputs": [
    {
     "name": "stdout",
     "output_type": "stream",
     "text": [
      "{'Head First Python, 1st Ed.': 1, 'Hot Chocolate Mix': 2, 'Wool Socks - Grey': 2}\n"
     ]
    }
   ],
   "source": [
    "shopping_cart_with_quantities = {\n",
    "    'Head First Python, 1st Ed.': 1, \n",
    "    'Hot Chocolate Mix': 2, \n",
    "    'Wool Socks - Grey': 2\n",
    "}\n",
    "print(shopping_cart_with_quantities)"
   ]
  },
  {
   "cell_type": "code",
   "execution_count": null,
   "id": "b7b3fc0a",
   "metadata": {},
   "outputs": [],
   "source": [
    "# Here's a blank cell for you to experiment in\n",
    "\n"
   ]
  },
  {
   "cell_type": "markdown",
   "id": "5f16e22d",
   "metadata": {},
   "source": [
    "***"
   ]
  },
  {
   "cell_type": "markdown",
   "id": "b068f19d",
   "metadata": {},
   "source": [
    "### Exercise: Time to use our 🧠\n"
   ]
  },
  {
   "cell_type": "code",
   "execution_count": null,
   "id": "ad360c9f",
   "metadata": {},
   "outputs": [],
   "source": []
  },
  {
   "cell_type": "code",
   "execution_count": null,
   "id": "99cfdaa0",
   "metadata": {},
   "outputs": [],
   "source": []
  },
  {
   "cell_type": "markdown",
   "id": "379d5d1d",
   "metadata": {},
   "source": [
    "***\n",
    "⏸️   **How are you feeling? Take a 5 minute break or maybe get a snack or some water if needed before moving on.**\n",
    "***"
   ]
  },
  {
   "cell_type": "markdown",
   "id": "5ed8abe4",
   "metadata": {},
   "source": [
    "### Making our own functions\n",
    "\n",
    "Now let's try to collect our ideas into a grouping called a **function**. Some facts about functions:\n",
    "1. They always start with the **reserved word** `def`\n",
    "\n",
    "\n",
    "2. Have a name that is conventionally written in something called \"lower_snake_case\"\n",
    "\n",
    "\n",
    "3. Always have a set of parentheses after their name with zero or more comma separated inputs\n",
    "    \n",
    "    \n",
    "4. Always have a colon `:` after their parentheses\n",
    "\n",
    "\n",
    "For example:\n",
    "- `def determine_if_plant_needs_water_today(house_plant, current_soil_moisture_level):`\n",
    "\n",
    "\n",
    "- `def count_number_of_words_in(text):`\n",
    "\n",
    "\n",
    "- `def calculate_if_a_player_has_won_toc_tac_toe():`"
   ]
  },
  {
   "cell_type": "markdown",
   "id": "a3456749",
   "metadata": {},
   "source": [
    "#### What's so great about that?\n",
    "\n",
    "Functions are great for several reasons:\n",
    "\n",
    "- **They provide us a way to break up code that's getting too long**\n",
    "    - In fact, we say that block of code starts to *stink* when it gets too long. \n",
    "    - I'm serious! This is a legitimate technical term called a \"code smell\"\n",
    "\n",
    "\n",
    "- They provide us a way to **reuse code** in other places **with a different input values**\n",
    "    - This is a crucial prerequisite to testing our code\n",
    "\n",
    "\n",
    "- When named well, they **provide us with valuable information about a behavior or action** that needs to be accomplished"
   ]
  },
  {
   "cell_type": "code",
   "execution_count": 58,
   "id": "ea95006d",
   "metadata": {},
   "outputs": [],
   "source": [
    "def include_on_deans_list(my_gpa):\n",
    "    '''\n",
    "    This is called a \"docstring\". Think of it as a multi-line comment. \n",
    "    Inside it we write down the details of our idea and any assumptions we're making.\n",
    "    \n",
    "    Assumes:\n",
    "       my_gpa is any positive float value such as 1.2 or 100.5\n",
    "       \n",
    "    Guarantees:\n",
    "       True if my_gpa is high enough for the deans list, and False if not.\n",
    "       \n",
    "    Throws:\n",
    "       ValueError if my_gpa is a negative number\n",
    "    '''\n",
    "    if my_gpa > 3.4: # This is the \"rule\" we are programming to determine the dean's list\n",
    "        print(\"Made the dean's list. Congratulations!\")\n",
    "        return True\n",
    "    elif my_gpa < 0:\n",
    "        raise ValueError(\"That's insane. Are you okay?\") \n",
    "    else:\n",
    "        print(\"Didn't make the dean's list this quarter. Don't worry, your grades don't define you. You're still awesome!\")\n",
    "        return False"
   ]
  },
  {
   "cell_type": "code",
   "execution_count": 57,
   "id": "3ea494a2",
   "metadata": {},
   "outputs": [
    {
     "name": "stdout",
     "output_type": "stream",
     "text": [
      "Made the dean's list. Congratulations.\n",
      "True\n"
     ]
    }
   ],
   "source": [
    "# Try editing the value below to explore different behaviors of the function\n",
    "\n",
    "overall_gpa_this_quarter = 3.41\n",
    "print(include_on_deans_list(overall_gpa_this_quarter))"
   ]
  },
  {
   "cell_type": "code",
   "execution_count": null,
   "id": "47c5f333",
   "metadata": {},
   "outputs": [],
   "source": [
    "overall_gpa_this_quarter = ___\n",
    "print(include_on_deans_list(overall_gpa_this_quarter))"
   ]
  },
  {
   "cell_type": "code",
   "execution_count": null,
   "id": "43ff4d31",
   "metadata": {},
   "outputs": [],
   "source": []
  }
 ],
 "metadata": {
  "kernelspec": {
   "display_name": "Python 3",
   "language": "python",
   "name": "python3"
  },
  "language_info": {
   "codemirror_mode": {
    "name": "ipython",
    "version": 3
   },
   "file_extension": ".py",
   "mimetype": "text/x-python",
   "name": "python",
   "nbconvert_exporter": "python",
   "pygments_lexer": "ipython3",
   "version": "3.8.8"
  }
 },
 "nbformat": 4,
 "nbformat_minor": 5
}
