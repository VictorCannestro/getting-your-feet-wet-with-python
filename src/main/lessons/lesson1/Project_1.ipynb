{
 "cells": [
  {
   "cell_type": "markdown",
   "id": "d636bab4",
   "metadata": {},
   "source": [
    "# Project #1: Tic-Tac-Toe"
   ]
  },
  {
   "cell_type": "markdown",
   "id": "b28c100c",
   "metadata": {},
   "source": [
    "## Computers and Humans\n",
    "\n",
    "Let's talk a little bit more about computers and humans and explore our relationships to each other.\n",
    "\n",
    "Computers are:\n",
    "- Dumb\n",
    "- Fast\n",
    "- Accurate\n",
    "\n",
    "They're excellent at following instructions and doing *exactly* what we ask them to do in a timely manner. Computers will execute our instructions at blazing speeds and give us *immediate feedback* on our ideas. \n",
    "\n",
    "In comparison, humans are:\n",
    "- Smart \n",
    "- Slow\n",
    "- Prone to error\n",
    "\n",
    "We're able to break down, figure out, and explain complex tasks, but need plenty of time to do so and communicate our thoughts. Even then, we're bound to make mistakes and struggle to communicate our ideas at times. Humans also have limited cognitive resources and can only spend so much time on a task. We tend to struggle with complexity and need to figure out ways to handle it. \n",
    "\n",
    "Wouldn't it be great if we could combine the best of both worlds? Just imagine it... if we can be smart, fast, and accurate with a computer to solve complex problems...\n",
    "\n",
    "The good news is that we can! It just takes a little more effort upfront and a **commitment to communication**.\n",
    "\n",
    "This approach is **Test Driven Design**."
   ]
  },
  {
   "cell_type": "code",
   "execution_count": null,
   "id": "c9060f20",
   "metadata": {},
   "outputs": [],
   "source": []
  }
 ],
 "metadata": {
  "kernelspec": {
   "display_name": "Python 3",
   "language": "python",
   "name": "python3"
  },
  "language_info": {
   "codemirror_mode": {
    "name": "ipython",
    "version": 3
   },
   "file_extension": ".py",
   "mimetype": "text/x-python",
   "name": "python",
   "nbconvert_exporter": "python",
   "pygments_lexer": "ipython3",
   "version": "3.8.8"
  }
 },
 "nbformat": 4,
 "nbformat_minor": 5
}
